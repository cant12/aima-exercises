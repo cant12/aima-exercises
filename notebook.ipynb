{
 "cells": [
  {
   "cell_type": "code",
   "execution_count": 2,
   "metadata": {},
   "outputs": [
    {
     "data": {
      "text/plain": [
       "200000"
      ]
     },
     "execution_count": 2,
     "metadata": {},
     "output_type": "execute_result"
    }
   ],
   "source": [
    "import sys\n",
    "sys.setrecursionlimit(200000)\n",
    "sys.getrecursionlimit()"
   ]
  },
  {
   "cell_type": "code",
   "execution_count": 2,
   "metadata": {},
   "outputs": [
    {
     "name": "stdout",
     "output_type": "stream",
     "text": [
      "1250000025000000\n"
     ]
    }
   ],
   "source": [
    "def stack_fact(n):\n",
    "    # [variables, callee_return]\n",
    "    stack = []\n",
    "    stack.append([n, None])\n",
    "    result = None\n",
    "    while len(stack) > 0:\n",
    "        num, callee_return = stack[-1]\n",
    "        return_to_caller = False\n",
    "        return_value = None\n",
    "\n",
    "        if callee_return is not None:\n",
    "            return_value = num + callee_return\n",
    "            return_to_caller = True\n",
    "        else:\n",
    "            if (num == 0):\n",
    "                return_value = 0\n",
    "                return_to_caller = True\n",
    "            else:\n",
    "                stack.append([num - 1, None])\n",
    "        \n",
    "        if return_to_caller:\n",
    "            _ = stack.pop()\n",
    "            if(len(stack) == 0):\n",
    "                result = return_value\n",
    "            else:\n",
    "                stack[-1][1] = return_value\n",
    "    return result\n",
    "\n",
    "\n",
    "def fact(n):\n",
    "    if (n==0):\n",
    "        return 1\n",
    "    return n + fact(n-1)\n",
    "\n",
    "print(stack_fact(50000000))"
   ]
  },
  {
   "cell_type": "code",
   "execution_count": 3,
   "metadata": {},
   "outputs": [
    {
     "name": "stdout",
     "output_type": "stream",
     "text": [
      "1250000025000000\n"
     ]
    }
   ],
   "source": [
    "n = 0\n",
    "for i in range(0,50000001):\n",
    "    n += i\n",
    "print(n)"
   ]
  },
  {
   "cell_type": "code",
   "execution_count": 5,
   "metadata": {},
   "outputs": [],
   "source": [
    "from n_puzzle import NPuzzle\n",
    "from a_star_search import AStartSearch\n",
    "from path_finder import PathFinder\n",
    "\n",
    "search_problem = NPuzzle(3)\n",
    "# search_problem = PathFinder((2.5,5.67), (11.84,0.73))\n",
    "obj = AStartSearch(1,0,search_problem)"
   ]
  },
  {
   "cell_type": "code",
   "execution_count": 6,
   "metadata": {},
   "outputs": [
    {
     "name": "stdout",
     "output_type": "stream",
     "text": [
      "memory usage:\n",
      "     max frontier size: 32156\n",
      "     max state history size: 162241\n",
      "time:\n",
      "     time taken: 2.61 seconds\n",
      "     no. of nodes visited: 435972\n",
      "\n",
      "solution cost: 26\n",
      "solution depth: 26\n",
      "no. of states visited: 162241\n",
      "goal found:\n",
      "\n",
      "0 1 2 \n",
      "3 4 5 \n",
      "6 7 8 \n",
      "\n"
     ]
    }
   ],
   "source": [
    "obj.reset()\n",
    "obj.perform_search()\n",
    "obj.display_stats()"
   ]
  },
  {
   "cell_type": "code",
   "execution_count": 7,
   "metadata": {},
   "outputs": [],
   "source": [
    "from n_puzzle import NPuzzle\n",
    "from depth_first_search import DepthFirstSearch\n",
    "from path_finder import PathFinder\n",
    "search_problem = PathFinder((2.5,5.67), (11.84,0.73))\n",
    "# search_problem = NPuzzle(3)\n",
    "obj = DepthFirstSearch(search_problem)"
   ]
  },
  {
   "cell_type": "code",
   "execution_count": 8,
   "metadata": {},
   "outputs": [
    {
     "name": "stdout",
     "output_type": "stream",
     "text": [
      "memory usage:\n",
      "     max frontier size: 22\n",
      "     max state history size: 5\n",
      "time:\n",
      "     time taken: 28.67 seconds\n",
      "     no. of nodes visited: 595854\n",
      "\n",
      "solution cost: 11.61214244019499\n",
      "solution depth: 4\n",
      "no. of ILS iterations: 438\n",
      "goal found:\n",
      "\n",
      "(11.84, 0.73)\n"
     ]
    }
   ],
   "source": [
    "obj.reset(randomize_input=False)\n",
    "# obj.perform_dfs()\n",
    "obj.perform_ils()\n",
    "# obj.display_solution()\n",
    "obj.display_stats()"
   ]
  },
  {
   "cell_type": "code",
   "execution_count": 26,
   "metadata": {},
   "outputs": [],
   "source": [
    "from travelling_salesman import TravellingSalesman\n",
    "from a_star_search import AStartSearch\n",
    "from depth_first_search import DepthFirstSearch\n",
    "\n",
    "search_problem = TravellingSalesman()\n",
    "search_problem.process_input('/Users/veeramakalivignesh/Downloads/dj38.tsp')\n",
    "search_problem.cities = search_problem.cities[:8]\n",
    "\n",
    "obj = AStartSearch(1,0,search_problem)\n",
    "# obj = DepthFirstSearch(search_problem)"
   ]
  },
  {
   "cell_type": "code",
   "execution_count": 27,
   "metadata": {},
   "outputs": [
    {
     "name": "stdout",
     "output_type": "stream",
     "text": [
      "memory usage:\n",
      "     max frontier size: 3852\n",
      "     max state history size: 5362\n",
      "time:\n",
      "     time taken: 0.05 seconds\n",
      "     no. of nodes visited: 9212\n",
      "\n",
      "solution cost: 2101.3804763946996\n",
      "solution depth: 8\n",
      "no. of states visited: 5362\n",
      "goal found:\n",
      "\n",
      "1\n",
      "2\n",
      "6\n",
      "8\n",
      "7\n",
      "5\n",
      "3\n",
      "4\n",
      "1\n"
     ]
    }
   ],
   "source": [
    "obj.reset()\n",
    "obj.perform_search()\n",
    "# obj.perform_ils()\n",
    "obj.display_stats()"
   ]
  },
  {
   "cell_type": "code",
   "execution_count": 22,
   "metadata": {},
   "outputs": [
    {
     "data": {
      "text/plain": [
       "68907126"
      ]
     },
     "execution_count": 22,
     "metadata": {},
     "output_type": "execute_result"
    }
   ],
   "source": [
    "obj.nodes_visited\n"
   ]
  }
 ],
 "metadata": {
  "kernelspec": {
   "display_name": "Python 3",
   "language": "python",
   "name": "python3"
  },
  "language_info": {
   "codemirror_mode": {
    "name": "ipython",
    "version": 3
   },
   "file_extension": ".py",
   "mimetype": "text/x-python",
   "name": "python",
   "nbconvert_exporter": "python",
   "pygments_lexer": "ipython3",
   "version": "3.9.6"
  },
  "orig_nbformat": 4
 },
 "nbformat": 4,
 "nbformat_minor": 2
}
